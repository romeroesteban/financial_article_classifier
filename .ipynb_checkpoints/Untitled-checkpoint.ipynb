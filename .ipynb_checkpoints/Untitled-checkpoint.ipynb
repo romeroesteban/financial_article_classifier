{
 "cells": [
  {
   "cell_type": "code",
   "execution_count": 2,
   "id": "ea3d7f2d",
   "metadata": {},
   "outputs": [],
   "source": [
    "from sklearn.feature_extraction.text import TfidfVectorizer\n",
    "from sklearn.ensemble import RandomForestClassifier\n",
    "from sklearn import preprocessing\n",
    "import pandas as pd\n",
    "import json\n",
    "import pickle"
   ]
  },
  {
   "cell_type": "code",
   "execution_count": 4,
   "id": "9b34ba88",
   "metadata": {},
   "outputs": [],
   "source": [
    "financial_corpus_df = pd.read_csv('training_data.csv')"
   ]
  },
  {
   "cell_type": "code",
   "execution_count": 5,
   "id": "b7f5208a",
   "metadata": {},
   "outputs": [
    {
     "data": {
      "text/html": [
       "<div>\n",
       "<style scoped>\n",
       "    .dataframe tbody tr th:only-of-type {\n",
       "        vertical-align: middle;\n",
       "    }\n",
       "\n",
       "    .dataframe tbody tr th {\n",
       "        vertical-align: top;\n",
       "    }\n",
       "\n",
       "    .dataframe thead th {\n",
       "        text-align: right;\n",
       "    }\n",
       "</style>\n",
       "<table border=\"1\" class=\"dataframe\">\n",
       "  <thead>\n",
       "    <tr style=\"text-align: right;\">\n",
       "      <th></th>\n",
       "      <th>id</th>\n",
       "      <th>category</th>\n",
       "      <th>title</th>\n",
       "      <th>body</th>\n",
       "    </tr>\n",
       "  </thead>\n",
       "  <tbody>\n",
       "    <tr>\n",
       "      <th>0</th>\n",
       "      <td>5639</td>\n",
       "      <td>International_Finance</td>\n",
       "      <td>How Has Devaluation of the Yuan Impacted Globa...</td>\n",
       "      <td>How Has the Devaluation of the Yuan Impacted G...</td>\n",
       "    </tr>\n",
       "    <tr>\n",
       "      <th>1</th>\n",
       "      <td>2673</td>\n",
       "      <td>Earning_Reports</td>\n",
       "      <td>Qorvo® Announces Fiscal 2022 Third Quarter Fin...</td>\n",
       "      <td>GREENSBORO, N.C., Feb. 02, 2022 (GLOBE NEWSWIR...</td>\n",
       "    </tr>\n",
       "    <tr>\n",
       "      <th>2</th>\n",
       "      <td>2056</td>\n",
       "      <td>Commodities</td>\n",
       "      <td>Why Gatos Silver Stock Fell Another 15.5% at t...</td>\n",
       "      <td>Shares of Gatos Silver (NYSE:GATO) fell 15.5% ...</td>\n",
       "    </tr>\n",
       "    <tr>\n",
       "      <th>3</th>\n",
       "      <td>3455</td>\n",
       "      <td>Economy</td>\n",
       "      <td>Healthcare industry expects Budget 2022 to hik...</td>\n",
       "      <td>Healthcare industry expects Budget 2022 to hik...</td>\n",
       "    </tr>\n",
       "    <tr>\n",
       "      <th>4</th>\n",
       "      <td>4406</td>\n",
       "      <td>Fraud</td>\n",
       "      <td>American FX Fund CEO Sent to Jail for Running ...</td>\n",
       "      <td>The U.S Federal Bureau of Investigation (FBI) ...</td>\n",
       "    </tr>\n",
       "    <tr>\n",
       "      <th>...</th>\n",
       "      <td>...</td>\n",
       "      <td>...</td>\n",
       "      <td>...</td>\n",
       "      <td>...</td>\n",
       "    </tr>\n",
       "    <tr>\n",
       "      <th>8037</th>\n",
       "      <td>10024</td>\n",
       "      <td>Real_Estate</td>\n",
       "      <td>United Real Estate expands to Alabama with 2nd...</td>\n",
       "      <td>Dallas-based brokerage and franchisor United R...</td>\n",
       "    </tr>\n",
       "    <tr>\n",
       "      <th>8038</th>\n",
       "      <td>167</td>\n",
       "      <td>Capital</td>\n",
       "      <td>CTDOT Marks Transit Equity Day 2022 with Commi...</td>\n",
       "      <td>(Newington, CT) - The Connecticut Department o...</td>\n",
       "    </tr>\n",
       "    <tr>\n",
       "      <th>8039</th>\n",
       "      <td>2533</td>\n",
       "      <td>Earning_Reports</td>\n",
       "      <td>Lee Enterprises reports strong digital growth ...</td>\n",
       "      <td>Digital-only subscribers grew 57%; exceeds hal...</td>\n",
       "    </tr>\n",
       "    <tr>\n",
       "      <th>8040</th>\n",
       "      <td>5543</td>\n",
       "      <td>International_Finance</td>\n",
       "      <td>Fuel for Thought: Persian Gulf energy producer...</td>\n",
       "      <td>Geopolitics has jumped ahead of market fundame...</td>\n",
       "    </tr>\n",
       "    <tr>\n",
       "      <th>8041</th>\n",
       "      <td>2792</td>\n",
       "      <td>Earning_Reports</td>\n",
       "      <td>Tesla's entire year hinges on answering one bi...</td>\n",
       "      <td>Tesla reports second-quarter earnings on Wedne...</td>\n",
       "    </tr>\n",
       "  </tbody>\n",
       "</table>\n",
       "<p>8042 rows × 4 columns</p>\n",
       "</div>"
      ],
      "text/plain": [
       "         id               category  \\\n",
       "0      5639  International_Finance   \n",
       "1      2673        Earning_Reports   \n",
       "2      2056            Commodities   \n",
       "3      3455                Economy   \n",
       "4      4406                  Fraud   \n",
       "...     ...                    ...   \n",
       "8037  10024            Real_Estate   \n",
       "8038    167                Capital   \n",
       "8039   2533        Earning_Reports   \n",
       "8040   5543  International_Finance   \n",
       "8041   2792        Earning_Reports   \n",
       "\n",
       "                                                  title  \\\n",
       "0     How Has Devaluation of the Yuan Impacted Globa...   \n",
       "1     Qorvo® Announces Fiscal 2022 Third Quarter Fin...   \n",
       "2     Why Gatos Silver Stock Fell Another 15.5% at t...   \n",
       "3     Healthcare industry expects Budget 2022 to hik...   \n",
       "4     American FX Fund CEO Sent to Jail for Running ...   \n",
       "...                                                 ...   \n",
       "8037  United Real Estate expands to Alabama with 2nd...   \n",
       "8038  CTDOT Marks Transit Equity Day 2022 with Commi...   \n",
       "8039  Lee Enterprises reports strong digital growth ...   \n",
       "8040  Fuel for Thought: Persian Gulf energy producer...   \n",
       "8041  Tesla's entire year hinges on answering one bi...   \n",
       "\n",
       "                                                   body  \n",
       "0     How Has the Devaluation of the Yuan Impacted G...  \n",
       "1     GREENSBORO, N.C., Feb. 02, 2022 (GLOBE NEWSWIR...  \n",
       "2     Shares of Gatos Silver (NYSE:GATO) fell 15.5% ...  \n",
       "3     Healthcare industry expects Budget 2022 to hik...  \n",
       "4     The U.S Federal Bureau of Investigation (FBI) ...  \n",
       "...                                                 ...  \n",
       "8037  Dallas-based brokerage and franchisor United R...  \n",
       "8038  (Newington, CT) - The Connecticut Department o...  \n",
       "8039  Digital-only subscribers grew 57%; exceeds hal...  \n",
       "8040  Geopolitics has jumped ahead of market fundame...  \n",
       "8041  Tesla reports second-quarter earnings on Wedne...  \n",
       "\n",
       "[8042 rows x 4 columns]"
      ]
     },
     "execution_count": 5,
     "metadata": {},
     "output_type": "execute_result"
    }
   ],
   "source": [
    "financial_corpus_df"
   ]
  },
  {
   "cell_type": "code",
   "execution_count": 8,
   "id": "52ed56b0",
   "metadata": {},
   "outputs": [
    {
     "data": {
      "text/plain": [
       "array(['International_Finance', 'Earning_Reports', 'Commodities',\n",
       "       'Economy', 'Fraud', 'Mergers_Acquisitions', 'Policy', 'Oil',\n",
       "       'Capital', 'Litigation', 'Real_Estate'], dtype=object)"
      ]
     },
     "execution_count": 8,
     "metadata": {},
     "output_type": "execute_result"
    }
   ],
   "source": [
    "financial_corpus_df['category'].unique()"
   ]
  },
  {
   "cell_type": "code",
   "execution_count": 15,
   "id": "8bfdc5f5",
   "metadata": {},
   "outputs": [],
   "source": [
    "label_encoder = preprocessing.LabelEncoder()\n",
    "label_encoder.fit(financial_corpus_df['category'])\n",
    "financial_corpus_df['label'] = label_encoder.transform(financial_corpus_df['category'])"
   ]
  },
  {
   "cell_type": "code",
   "execution_count": 17,
   "id": "d2702f00",
   "metadata": {},
   "outputs": [],
   "source": [
    "vectorizer = TfidfVectorizer(stop_words = 'english', max_features = 1000)"
   ]
  },
  {
   "cell_type": "code",
   "execution_count": 19,
   "id": "130286f9",
   "metadata": {},
   "outputs": [],
   "source": [
    "x = financial_corpus_df['body']\n",
    "y = financial_corpus_df['label']"
   ]
  },
  {
   "cell_type": "code",
   "execution_count": 20,
   "id": "010083d3",
   "metadata": {},
   "outputs": [],
   "source": [
    "vectorized_x = vectorizer.fit_transform(x)"
   ]
  },
  {
   "cell_type": "code",
   "execution_count": 21,
   "id": "8632c9fc",
   "metadata": {},
   "outputs": [],
   "source": [
    "rf_clf = RandomForestClassifier()"
   ]
  },
  {
   "cell_type": "code",
   "execution_count": 22,
   "id": "d35cf367",
   "metadata": {},
   "outputs": [
    {
     "data": {
      "text/html": [
       "<style>#sk-container-id-3 {color: black;background-color: white;}#sk-container-id-3 pre{padding: 0;}#sk-container-id-3 div.sk-toggleable {background-color: white;}#sk-container-id-3 label.sk-toggleable__label {cursor: pointer;display: block;width: 100%;margin-bottom: 0;padding: 0.3em;box-sizing: border-box;text-align: center;}#sk-container-id-3 label.sk-toggleable__label-arrow:before {content: \"▸\";float: left;margin-right: 0.25em;color: #696969;}#sk-container-id-3 label.sk-toggleable__label-arrow:hover:before {color: black;}#sk-container-id-3 div.sk-estimator:hover label.sk-toggleable__label-arrow:before {color: black;}#sk-container-id-3 div.sk-toggleable__content {max-height: 0;max-width: 0;overflow: hidden;text-align: left;background-color: #f0f8ff;}#sk-container-id-3 div.sk-toggleable__content pre {margin: 0.2em;color: black;border-radius: 0.25em;background-color: #f0f8ff;}#sk-container-id-3 input.sk-toggleable__control:checked~div.sk-toggleable__content {max-height: 200px;max-width: 100%;overflow: auto;}#sk-container-id-3 input.sk-toggleable__control:checked~label.sk-toggleable__label-arrow:before {content: \"▾\";}#sk-container-id-3 div.sk-estimator input.sk-toggleable__control:checked~label.sk-toggleable__label {background-color: #d4ebff;}#sk-container-id-3 div.sk-label input.sk-toggleable__control:checked~label.sk-toggleable__label {background-color: #d4ebff;}#sk-container-id-3 input.sk-hidden--visually {border: 0;clip: rect(1px 1px 1px 1px);clip: rect(1px, 1px, 1px, 1px);height: 1px;margin: -1px;overflow: hidden;padding: 0;position: absolute;width: 1px;}#sk-container-id-3 div.sk-estimator {font-family: monospace;background-color: #f0f8ff;border: 1px dotted black;border-radius: 0.25em;box-sizing: border-box;margin-bottom: 0.5em;}#sk-container-id-3 div.sk-estimator:hover {background-color: #d4ebff;}#sk-container-id-3 div.sk-parallel-item::after {content: \"\";width: 100%;border-bottom: 1px solid gray;flex-grow: 1;}#sk-container-id-3 div.sk-label:hover label.sk-toggleable__label {background-color: #d4ebff;}#sk-container-id-3 div.sk-serial::before {content: \"\";position: absolute;border-left: 1px solid gray;box-sizing: border-box;top: 0;bottom: 0;left: 50%;z-index: 0;}#sk-container-id-3 div.sk-serial {display: flex;flex-direction: column;align-items: center;background-color: white;padding-right: 0.2em;padding-left: 0.2em;position: relative;}#sk-container-id-3 div.sk-item {position: relative;z-index: 1;}#sk-container-id-3 div.sk-parallel {display: flex;align-items: stretch;justify-content: center;background-color: white;position: relative;}#sk-container-id-3 div.sk-item::before, #sk-container-id-3 div.sk-parallel-item::before {content: \"\";position: absolute;border-left: 1px solid gray;box-sizing: border-box;top: 0;bottom: 0;left: 50%;z-index: -1;}#sk-container-id-3 div.sk-parallel-item {display: flex;flex-direction: column;z-index: 1;position: relative;background-color: white;}#sk-container-id-3 div.sk-parallel-item:first-child::after {align-self: flex-end;width: 50%;}#sk-container-id-3 div.sk-parallel-item:last-child::after {align-self: flex-start;width: 50%;}#sk-container-id-3 div.sk-parallel-item:only-child::after {width: 0;}#sk-container-id-3 div.sk-dashed-wrapped {border: 1px dashed gray;margin: 0 0.4em 0.5em 0.4em;box-sizing: border-box;padding-bottom: 0.4em;background-color: white;}#sk-container-id-3 div.sk-label label {font-family: monospace;font-weight: bold;display: inline-block;line-height: 1.2em;}#sk-container-id-3 div.sk-label-container {text-align: center;}#sk-container-id-3 div.sk-container {/* jupyter's `normalize.less` sets `[hidden] { display: none; }` but bootstrap.min.css set `[hidden] { display: none !important; }` so we also need the `!important` here to be able to override the default hidden behavior on the sphinx rendered scikit-learn.org. See: https://github.com/scikit-learn/scikit-learn/issues/21755 */display: inline-block !important;position: relative;}#sk-container-id-3 div.sk-text-repr-fallback {display: none;}</style><div id=\"sk-container-id-3\" class=\"sk-top-container\"><div class=\"sk-text-repr-fallback\"><pre>RandomForestClassifier()</pre><b>In a Jupyter environment, please rerun this cell to show the HTML representation or trust the notebook. <br />On GitHub, the HTML representation is unable to render, please try loading this page with nbviewer.org.</b></div><div class=\"sk-container\" hidden><div class=\"sk-item\"><div class=\"sk-estimator sk-toggleable\"><input class=\"sk-toggleable__control sk-hidden--visually\" id=\"sk-estimator-id-3\" type=\"checkbox\" checked><label for=\"sk-estimator-id-3\" class=\"sk-toggleable__label sk-toggleable__label-arrow\">RandomForestClassifier</label><div class=\"sk-toggleable__content\"><pre>RandomForestClassifier()</pre></div></div></div></div></div>"
      ],
      "text/plain": [
       "RandomForestClassifier()"
      ]
     },
     "execution_count": 22,
     "metadata": {},
     "output_type": "execute_result"
    }
   ],
   "source": [
    "rf_clf.fit(vectorized_x,y)"
   ]
  },
  {
   "cell_type": "code",
   "execution_count": null,
   "id": "c927d9b6",
   "metadata": {},
   "outputs": [],
   "source": []
  }
 ],
 "metadata": {
  "kernelspec": {
   "display_name": "Python 3 (ipykernel)",
   "language": "python",
   "name": "python3"
  },
  "language_info": {
   "codemirror_mode": {
    "name": "ipython",
    "version": 3
   },
   "file_extension": ".py",
   "mimetype": "text/x-python",
   "name": "python",
   "nbconvert_exporter": "python",
   "pygments_lexer": "ipython3",
   "version": "3.10.9"
  }
 },
 "nbformat": 4,
 "nbformat_minor": 5
}
